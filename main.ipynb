{
 "cells": [
  {
   "cell_type": "code",
   "execution_count": 4,
   "metadata": {},
   "outputs": [],
   "source": [
    "import re\n",
    "import requests\n",
    "from bs4 import BeautifulSoup\n",
    "import datetime\n",
    "import os\n",
    "from fpdf import FPDF\n",
    "import yake\n",
    "import pytz\n",
    "import glob\n",
    "import shutil\n",
    "import smtplib\n",
    "from email.message import EmailMessage\n",
    "import json\n",
    "import seaborn as sns\n",
    "import matplotlib.pyplot as plt\n",
    "\n",
    "def fetch_time():\n",
    "    current_time = datetime.datetime.now(pytz.timezone('Asia/Kolkata'))\n",
    "    format_time = current_time.strftime(\"%Y-%m-%d %H:%M:%S\")\n",
    "    tag_time = str(current_time.day) + str(current_time.month) + str(current_time.year) + str(current_time.hour) + str(current_time.minute) + str(current_time.second)\n",
    "    \n",
    "    return format_time, tag_time\n",
    "\n",
    "def create_pdf(format_time):\n",
    "    #Convert txt to PDF\n",
    "    pdf = FPDF()\n",
    "    # Add a page\n",
    "    pdf.add_page()\n",
    "\n",
    "    # set style and size of font\n",
    "    # that you want in the pdf\n",
    "    pdf.add_font('DejaVu', '', './fonts/Tinos-Regular.ttf', uni=True)\n",
    "    pdf.set_font('DejaVu', '', 14)\n",
    "\n",
    "    #Setting credentials\n",
    "    pdf.set_text_color(0,0,0)  \n",
    "    txt_1=\"FENS Job Market Weekly Feed\"\n",
    "    txt_2=\"Last updated on: \"+str(format_time)+\" IST\"\n",
    "    txt_3=\"github.com/pradhanhitesh\"\n",
    "    pdf.cell(200, 10, txt = txt_1,ln = 1, align = 'C')\n",
    "    pdf.cell(200, 10, txt = txt_2,ln = 2, align = 'C')\n",
    "    pdf.cell(200, 10, txt = txt_3,ln = 2, align = 'C')\n",
    "    pdf.ln(h=6)\n",
    "\n",
    "    return pdf\n",
    "\n",
    "def add_element(dict, key, value):\n",
    "    if key not in dict:\n",
    "        dict[key] = []\n",
    "    dict[key].append(value)\n",
    "\n",
    "def update_data():\n",
    "    fens_files = glob.glob('./FENS*')\n",
    "    if len(fens_files) > 0:\n",
    "        # print(\"FILES FOUND\")\n",
    "        for i in range(len(fens_files)):\n",
    "            shutil.move(fens_files[i],'./data/')\n",
    "\n",
    "    return\n",
    "\n",
    "def get_metadata(pdf,format_time,tag_time):    \n",
    "    file_name = \"FENS_\" + tag_time + \".txt\"\n",
    "\n",
    "    # Gather metadata for job-links\n",
    "    data_dict = {}\n",
    "    add_element(data_dict,'Timestamp',format_time)\n",
    "    \n",
    "    with open(file_name,'wt') as f :\n",
    "        urls=[\"https://www.fens.org/careers/job-market\"]\n",
    "        for url in urls:\n",
    "            # Send a request to the URL\n",
    "            response = requests.get(url)\n",
    "            response.raise_for_status()\n",
    "            print(f\"{format_time} REQUEST SENT!\")\n",
    "\n",
    "            # Parse the content using BeautifulSoup\n",
    "            soup = BeautifulSoup(response.content, 'html.parser')\n",
    "            href_tags = soup.find_all(href=True)\n",
    "\n",
    "            # Fetch job-links\n",
    "            job_links=[]\n",
    "            for i in range(len(href_tags)):\n",
    "                fullstring = str(href_tags[i])\n",
    "                substring = \"https://www.fens.org/careers/job-market/job/\"\n",
    "                try:\n",
    "                    fullstring.index(substring)\n",
    "                except ValueError:\n",
    "                    continue\n",
    "                else:\n",
    "                    # print(fullstring)\n",
    "                    job_links.append(fullstring)\n",
    "\n",
    "            print(f\"{format_time} JOBS FETCHED!\")\n",
    "\n",
    "            for k in range(10):\n",
    "                if re.sub('<[^<]+?>', '', str(job_links[k])).isdigit():\n",
    "                    url_job=\"https://www.fens.org/careers/job-market/job/\" + re.sub('<[^<]+?>', '', str(job_links[k])) + \"/\"\n",
    "                    print(url_job,file=f)\n",
    "                    pdf.set_text_color(0,0,255) \n",
    "                    pdf.write(4,url_job)\n",
    "                    pdf.ln(h=5)\n",
    "                    \n",
    "                    # Send a request to the URL\n",
    "                    response = requests.get(url_job)\n",
    "                    response.raise_for_status()\n",
    "\n",
    "                    # Parse the content using BeautifulSoup\n",
    "                    soup = BeautifulSoup(response.content, 'html.parser')\n",
    "\n",
    "                    # Get title\n",
    "                    title_tags = soup.find_all('title')\n",
    "                    title=str(title_tags).split('>')[1].split('<')[0]\n",
    "                    print(\"Title: \",title)\n",
    "                    pdf.set_text_color(0,0,0) \n",
    "                    title_text=\"Title: \"+str(title_tags).split('>')[1].split('<')[0]\n",
    "                    pdf.multi_cell(w=190, h=5, txt=title_text, border=0, align='L', fill=False)\n",
    "\n",
    "                    # Get other info\n",
    "                    keywords=['<p>Job ID:','<p><b>Position:','<p><b>Deadline:',\n",
    "                            '<p><b>Employment Start Date:','<p><b>Country:','<p><b>Institution:','URL:',\n",
    "                            \"<p><b>Department:\"]\n",
    "                    \n",
    "                    local = []\n",
    "                    for j in range(len(list(soup.find_all('p')))):\n",
    "                        for keys in keywords:\n",
    "                            if str(soup.find_all('p')[j]).find(keys) != -1:\n",
    "                                print(re.sub('<[^<]+?>', '',str(soup.find_all('p')[j])))\n",
    "                                local.append(re.sub('<[^<]+?>', '',str(soup.find_all('p')[j])))\n",
    "                                pdf.write(4,re.sub('<[^<]+?>', '',str(soup.find_all('p')[j])))\n",
    "                                pdf.ln(h=5)\n",
    "\n",
    "                    add_element(data_dict,'JobID',list(filter(lambda x: x.startswith('Job ID'), local))[0].split(': ')[1])\n",
    "                    add_element(data_dict,'Country',list(filter(lambda x: x.startswith('Country'), local))[0].split(': ')[1])\n",
    "\n",
    "                    # Generate keywords for each job-links from descirption\n",
    "                    save_des=[\"<p><b>Description:\"]\n",
    "                    for j in range(len(list(soup.find_all('p')))):\n",
    "                        for keys in save_des:\n",
    "                            if str(soup.find_all('p')[j]).find(keys) != -1:\n",
    "                                text_save = re.sub('<[^<]+?>', '',str(soup.find_all('p')[j]))\n",
    "                                kw_extractor = yake.KeywordExtractor(top=10, stopwords=None)\n",
    "                                keywords = kw_extractor.extract_keywords(text_save)\n",
    "                                text=\"Keywords: \"\n",
    "\n",
    "                                for kw in range(len(keywords)):\n",
    "                                    text=text+keywords[kw][0]+\"; \"\n",
    "                                    if kw == 9:\n",
    "                                        print(text)\n",
    "                                        pdf.multi_cell(w=190, h=5, txt=text, border=0, align='L', fill=False)\n",
    "                                        pdf.ln(h=5)\n",
    "    pdf.output(\"FENS_\"+tag_time+\".pdf\")\n",
    "\n",
    "    return data_dict\n",
    "\n",
    "def send_mail(format_time,tag_time):\n",
    "    msg = EmailMessage()\n",
    "    msg[\"From\"] = os.environ.get('FROM_ID')\n",
    "    msg[\"Subject\"] = \"FENS Weekly Update\" \n",
    "    msg[\"To\"] = os.environ.get('TO_ID')\n",
    "    msg.set_content(f\"Dear subscriber, \\nPlease find attached the FENS Weekly Update. \\nGenerated on {format_time} IST. \\n\\nRegards,\\nHitesh Pradhan\")\n",
    "\n",
    "    with open(\"FENS_\"+ tag_time +\".pdf\", 'rb') as content_file:\n",
    "        content = content_file.read()\n",
    "        msg.add_attachment(content, maintype='application', subtype='pdf', filename=\"FENS_\"+ tag_time +\".pdf\")\n",
    "\n",
    "    s = smtplib.SMTP_SSL('smtp.gmail.com')\n",
    "    s.login(os.environ.get('EMAIL'),os.environ.get('LOGIN_KEY')) #Add your credentials\n",
    "    s.send_message(msg)\n",
    "\n",
    "    return\n",
    "\n",
    "def update_data_json(data_dict):\n",
    "    with open(\"data/data.json\") as doc:\n",
    "        docObj = json.load(doc)\n",
    "        docObj.append(\n",
    "            data_dict\n",
    "        )\n",
    "    with open(\"data/data.json\", 'w') as json_file:\n",
    "        json.dump(docObj, json_file, \n",
    "                  indent=4,  \n",
    "                  separators=(',',': '))\n",
    "    return\n",
    "\n",
    "def count_countries():\n",
    "    def count_frequency(input_list):\n",
    "        frequency_dict = {}\n",
    "\n",
    "        for element in input_list:\n",
    "            if element in frequency_dict:\n",
    "                frequency_dict[element] += 1\n",
    "            else:\n",
    "                frequency_dict[element] = 1\n",
    "\n",
    "        return frequency_dict\n",
    "\n",
    "    with open(\"data/data.json\") as doc:\n",
    "        docObj = json.load(doc)\n",
    "\n",
    "    countries = []\n",
    "    for i in range(len(docObj)):\n",
    "        countries = countries + docObj[i]['Country']\n",
    "\n",
    "    store_count = count_frequency(countries)\n",
    "\n",
    "    return store_count\n",
    "\n",
    "def generate_plot(count_dict,tag_time):\n",
    "    plt.figure(figsize=(12,5))\n",
    "    plt.xticks(range(len(count_dict)), list(count_dict.keys()), rotation=45)\n",
    "\n",
    "    ax = sns.barplot(list(count_dict.keys()),list(count_dict.values()))\n",
    "    ax.bar_label(ax.containers[0])\n",
    "\n",
    "    plt.savefig('CountryCount' + tag_time +'.png',bbox_inches='tight')\n",
    "    plt.close()\n",
    "\n",
    "    return\n",
    "\n",
    "def generate_html_plot(tag_time):\n",
    "    all_files = os.listdir(\"./\")\n",
    "    png_files = [file for file in all_files if file.endswith('.png')]\n",
    "\n",
    "    template_vars = {\n",
    "        'plot' : f'<img src=\"{png_files[0]}\" width=\"650\" height=\"400\">',\n",
    "        'timestamp' : tag_time\n",
    "        }\n",
    "    \n",
    "    return template_vars"
   ]
  },
  {
   "cell_type": "code",
   "execution_count": 52,
   "metadata": {},
   "outputs": [],
   "source": []
  },
  {
   "cell_type": "code",
   "execution_count": 117,
   "metadata": {},
   "outputs": [
    {
     "name": "stdout",
     "output_type": "stream",
     "text": [
      "2024-01-22 17:52:21 REQUEST SENT!\n",
      "2024-01-22 17:52:21 JOBS FETCHED!\n",
      "Title:  PhD Position in electrophysiology of tick neurons - Federation of European Neuroscience Societies\n",
      "Job ID: 117507\n",
      "Position: Ph.D. Student\n",
      "Deadline: 15 March 2024\n",
      "Employment Start Date: 1 October 2024\n",
      "Country: France\n",
      "Institution: University of Orleans (France)/P2E laboratory/ Team : Neurobiology and Neuropharmacology of Ion Channels (NNIC)\n",
      "Department: Biology and Biochemistry\n",
      "URL: https://www.univ-orleans.fr/fr/p2e/equipes/neurobiologie-et-neuropharmacologie-des-canaux-ioniques\n",
      "Keywords: tick Ixodes ricinus; nicotinic acetylcholine receptors; Project title; Pharmacology and intracellular; tick Ixodes; Ixodes ricinus; neuronal nicotinic acetylcholine; Ixodes ricinus neuronal; acetylcholine receptors; nicotinic acetylcholine; \n",
      "Title:  Application Specialist - Federation of European Neuroscience Societies\n",
      "Job ID: 117502\n",
      "Position: Commercial Position\n",
      "Deadline: 16 February 2024\n",
      "Employment Start Date: 4 March 2024\n",
      "Country: Finland\n",
      "Institution: Neurotar Oy Ltd\n",
      "Department: \n",
      "URL: https://www.neurotar.com/\n",
      "Keywords: facilitates high-precision tests; Mobile HomeCage; equipment facilitates high-precision; proprietary Mobile HomeCage; behaving mice; tests in awake; facilitates high-precision; high-precision tests; Neurotar; sales; \n",
      "Title:  Data scientist position in cortical inhibitory microcircuits - Federation of European Neuroscience Societies\n",
      "Job ID: 117478\n",
      "Position: data science engineer position\n",
      "Deadline: 31 December 2024\n",
      "Country: France\n",
      "Institution: Paris Brain Institute\n",
      "Department: \n",
      "URL: https://baccilab.org/\n",
      "Title:  Postdoctoral Research Associate - Federation of European Neuroscience Societies\n",
      "Job ID: 117475\n",
      "Position: Post-doctoral Position\n",
      "Deadline: 24 February 2024\n",
      "Country: United States\n",
      "Institution: University of Virginia School of Medicine\n",
      "Department: Department of Pharmacology\n",
      "URL: https://med.virginia.edu/faculty/faculty-listing/jjz4n/\n"
     ]
    }
   ],
   "source": [
    "format_time, tag_time = fetch_time()\n",
    "pdf = create_pdf(format_time)\n",
    "\n",
    "update_data()         \n",
    "data_dict = get_metadata(pdf,format_time,tag_time)"
   ]
  },
  {
   "cell_type": "code",
   "execution_count": 113,
   "metadata": {},
   "outputs": [],
   "source": [
    "update_data_json(data_dict)"
   ]
  },
  {
   "cell_type": "code",
   "execution_count": 49,
   "metadata": {},
   "outputs": [],
   "source": [
    "def count_countries():\n",
    "    def count_frequency(input_list):\n",
    "        frequency_dict = {}\n",
    "\n",
    "        for element in input_list:\n",
    "            if element in frequency_dict:\n",
    "                frequency_dict[element] += 1\n",
    "            else:\n",
    "                frequency_dict[element] = 1\n",
    "\n",
    "        return frequency_dict\n",
    "\n",
    "    with open(\"data/data.json\") as doc:\n",
    "        docObj = json.load(doc)\n",
    "\n",
    "    countries = []\n",
    "    for i in range(len(docObj)):\n",
    "        countries = countries + docObj[i]['Country']\n",
    "\n",
    "    store_count = count_frequency(countries)\n",
    "\n",
    "    return store_count\n",
    "\n",
    "def generate_plot(count_dict,,tag_time):\n",
    "    plt.figure(figsize=(12,5))\n",
    "    plt.xticks(range(len(count_dict)), list(count_dict.keys()), rotation=45)\n",
    "\n",
    "    ax = sns.barplot(list(count_dict.keys()),list(count_dict.values()))\n",
    "    ax.bar_label(ax.containers[0])\n",
    "\n",
    "    plt.savefig('CountryCount' + tag_time +'.png',bbox_inches='tight')\n",
    "    plt.close()\n",
    "\n",
    "    return"
   ]
  },
  {
   "cell_type": "code",
   "execution_count": 51,
   "metadata": {},
   "outputs": [
    {
     "name": "stderr",
     "output_type": "stream",
     "text": [
      "c:\\Users\\htshp\\anaconda3\\lib\\site-packages\\seaborn\\_decorators.py:36: FutureWarning: Pass the following variables as keyword args: x, y. From version 0.12, the only valid positional argument will be `data`, and passing other arguments without an explicit keyword will result in an error or misinterpretation.\n",
      "  warnings.warn(\n"
     ]
    }
   ],
   "source": [
    "store_count = count_countries()\n",
    "generate_plot(count_dict=store_count)"
   ]
  },
  {
   "cell_type": "code",
   "execution_count": 24,
   "metadata": {},
   "outputs": [],
   "source": [
    "def count_frequency(input_list):\n",
    "    frequency_dict = {}\n",
    "\n",
    "    for element in input_list:\n",
    "        if element in frequency_dict:\n",
    "            frequency_dict[element] += 1\n",
    "        else:\n",
    "            frequency_dict[element] = 1\n",
    "\n",
    "    return frequency_dict"
   ]
  },
  {
   "cell_type": "code",
   "execution_count": 30,
   "metadata": {},
   "outputs": [
    {
     "data": {
      "text/plain": [
       "{'Belgium': 1,\n",
       " 'Germany': 2,\n",
       " 'Canada': 2,\n",
       " 'Czech Republic': 1,\n",
       " 'France': 8,\n",
       " 'Finland': 1,\n",
       " 'United States': 1,\n",
       " 'Sweden': 2,\n",
       " 'Austria': 1,\n",
       " 'Poland': 1}"
      ]
     },
     "execution_count": 30,
     "metadata": {},
     "output_type": "execute_result"
    }
   ],
   "source": [
    "count_frequency(docObj[1]['Country'])"
   ]
  },
  {
   "cell_type": "code",
   "execution_count": 35,
   "metadata": {},
   "outputs": [],
   "source": [
    "countries = []\n",
    "for i in range(len(docObj)):\n",
    "    countries = countries + docObj[i]['Country']"
   ]
  },
  {
   "cell_type": "code",
   "execution_count": 42,
   "metadata": {},
   "outputs": [],
   "source": [
    "my_dict = count_frequency(countries)"
   ]
  },
  {
   "cell_type": "code",
   "execution_count": 87,
   "metadata": {},
   "outputs": [
    {
     "data": {
      "text/plain": [
       "Text(5, 8, 'Last updated on: 2024-01-24 22:06:48 IST')"
      ]
     },
     "execution_count": 87,
     "metadata": {},
     "output_type": "execute_result"
    },
    {
     "data": {
      "image/png": "[encoded data removed]",
      "text/plain": [
       "<Figure size 864x360 with 1 Axes>"
      ]
     },
     "metadata": {
      "needs_background": "light"
     },
     "output_type": "display_data"
    }
   ],
   "source": [
    "plt.figure(figsize=(12,5))\n",
    "plt.xticks(range(len(my_dict)), list(my_dict.keys()), rotation=45)\n",
    "\n",
    "ax = sns.barplot(x = list(my_dict.keys()),y = list(my_dict.values()))\n",
    "ax.bar_label(ax.containers[0])\n",
    "txt = \"Last updated on: \" + str(fetch_time()[0]) + \" IST\"\n",
    "plt.text(len(my_dict.keys())/2, max(my_dict.values()), txt, fontsize = 13)"
   ]
  },
  {
   "cell_type": "code",
   "execution_count": 91,
   "metadata": {},
   "outputs": [
    {
     "data": {
      "text/plain": [
       "8"
      ]
     },
     "execution_count": 91,
     "metadata": {},
     "output_type": "execute_result"
    }
   ],
   "source": [
    "max(my_dict.values())"
   ]
  },
  {
   "cell_type": "code",
   "execution_count": null,
   "metadata": {},
   "outputs": [],
   "source": []
  }
 ],
 "metadata": {
  "kernelspec": {
   "display_name": "base",
   "language": "python",
   "name": "python3"
  },
  "language_info": {
   "codemirror_mode": {
    "name": "ipython",
    "version": 3
   },
   "file_extension": ".py",
   "mimetype": "text/x-python",
   "name": "python",
   "nbconvert_exporter": "python",
   "pygments_lexer": "ipython3",
   "version": "3.9.12"
  }
 },
 "nbformat": 4,
 "nbformat_minor": 2
}
